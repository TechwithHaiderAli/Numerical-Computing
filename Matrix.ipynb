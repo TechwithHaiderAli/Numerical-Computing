{
 "cells": [
  {
   "cell_type": "code",
   "execution_count": 25,
   "metadata": {},
   "outputs": [],
   "source": [
    "class Matrix:\n",
    "    def __init__(self,dims,fill):\n",
    "        self.rows=dims[0]\n",
    "        self.cols=dims[1]\n",
    "        self.A=[\n",
    "\n",
    "            [fill]*self.cols\n",
    "            for i in range(self.rows)\n",
    "\n",
    "        ]\n",
    "\n",
    "    def __str__(self):\n",
    "        matrix_str = \"\"\n",
    "        for row in self.A:\n",
    "            row_str = \"[\" + \" \".join(map(str, row)) + \"]\"\n",
    "            matrix_str += row_str + \"\\n\"\n",
    "        return matrix_str.strip()"
   ]
  },
  {
   "cell_type": "code",
   "execution_count": 26,
   "metadata": {},
   "outputs": [
    {
     "name": "stdout",
     "output_type": "stream",
     "text": [
      "[2.0 2.0 2.0 2.0]\n",
      "[2.0 2.0 2.0 2.0]\n",
      "[2.0 2.0 2.0 2.0]\n"
     ]
    }
   ],
   "source": [
    "m=Matrix((3,4),2.0)\n",
    "\n",
    "print(m)"
   ]
  },
  {
   "cell_type": "code",
   "execution_count": 27,
   "metadata": {},
   "outputs": [
    {
     "name": "stdout",
     "output_type": "stream",
     "text": [
      "CPU times: total: 0 ns\n",
      "Wall time: 0 ns\n"
     ]
    }
   ],
   "source": [
    "%time n=Matrix((100,100),0.0)"
   ]
  },
  {
   "cell_type": "code",
   "execution_count": 28,
   "metadata": {},
   "outputs": [
    {
     "name": "stdout",
     "output_type": "stream",
     "text": [
      "48\n",
      "48\n"
     ]
    }
   ],
   "source": [
    "from sys import getsizeof\n",
    "print(getsizeof(m))\n",
    "print(getsizeof(n))"
   ]
  },
  {
   "cell_type": "code",
   "execution_count": 31,
   "metadata": {},
   "outputs": [],
   "source": [
    "from pympler.asizeof import asizeof"
   ]
  },
  {
   "cell_type": "code",
   "execution_count": 32,
   "metadata": {},
   "outputs": [
    {
     "data": {
      "text/plain": [
       "(920, 87056)"
      ]
     },
     "execution_count": 32,
     "metadata": {},
     "output_type": "execute_result"
    }
   ],
   "source": [
    "asizeof(m),asizeof(n)"
   ]
  },
  {
   "cell_type": "code",
   "execution_count": null,
   "metadata": {},
   "outputs": [],
   "source": []
  }
 ],
 "metadata": {
  "kernelspec": {
   "display_name": "tf",
   "language": "python",
   "name": "python3"
  },
  "language_info": {
   "codemirror_mode": {
    "name": "ipython",
    "version": 3
   },
   "file_extension": ".py",
   "mimetype": "text/x-python",
   "name": "python",
   "nbconvert_exporter": "python",
   "pygments_lexer": "ipython3",
   "version": "3.12.4"
  }
 },
 "nbformat": 4,
 "nbformat_minor": 2
}
